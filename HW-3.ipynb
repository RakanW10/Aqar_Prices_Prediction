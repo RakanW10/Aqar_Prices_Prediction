{
 "cells": [
  {
   "cell_type": "code",
   "execution_count": 1,
   "id": "f8e25751",
   "metadata": {},
   "outputs": [],
   "source": [
    "import pandas as pd"
   ]
  },
  {
   "cell_type": "code",
   "execution_count": 2,
   "id": "36f7fd54",
   "metadata": {},
   "outputs": [],
   "source": [
    "data = pd.read_csv(\"aqardata_2.csv\")"
   ]
  },
  {
   "cell_type": "code",
   "execution_count": 3,
   "id": "9814e611",
   "metadata": {},
   "outputs": [
    {
     "name": "stdout",
     "output_type": "stream",
     "text": [
      "(2951, 8)\n"
     ]
    },
    {
     "data": {
      "text/html": [
       "<div>\n",
       "<style scoped>\n",
       "    .dataframe tbody tr th:only-of-type {\n",
       "        vertical-align: middle;\n",
       "    }\n",
       "\n",
       "    .dataframe tbody tr th {\n",
       "        vertical-align: top;\n",
       "    }\n",
       "\n",
       "    .dataframe thead th {\n",
       "        text-align: right;\n",
       "    }\n",
       "</style>\n",
       "<table border=\"1\" class=\"dataframe\">\n",
       "  <thead>\n",
       "    <tr style=\"text-align: right;\">\n",
       "      <th></th>\n",
       "      <th>mainlocation</th>\n",
       "      <th>sublocation</th>\n",
       "      <th>neighborhood</th>\n",
       "      <th>frontage</th>\n",
       "      <th>purpose</th>\n",
       "      <th>streetwidth</th>\n",
       "      <th>size</th>\n",
       "      <th>Pricepm</th>\n",
       "    </tr>\n",
       "  </thead>\n",
       "  <tbody>\n",
       "    <tr>\n",
       "      <th>0</th>\n",
       "      <td>الرياض</td>\n",
       "      <td>غرب الرياض</td>\n",
       "      <td>حي ظهرة لبن</td>\n",
       "      <td>شمال</td>\n",
       "      <td>سكني</td>\n",
       "      <td>20.0</td>\n",
       "      <td>727</td>\n",
       "      <td>1800</td>\n",
       "    </tr>\n",
       "    <tr>\n",
       "      <th>1</th>\n",
       "      <td>بريدة</td>\n",
       "      <td>NaN</td>\n",
       "      <td>حي مشعل</td>\n",
       "      <td>غرب</td>\n",
       "      <td>NaN</td>\n",
       "      <td>15.0</td>\n",
       "      <td>450</td>\n",
       "      <td>950</td>\n",
       "    </tr>\n",
       "    <tr>\n",
       "      <th>2</th>\n",
       "      <td>الخبر</td>\n",
       "      <td>NaN</td>\n",
       "      <td>حي الحمرا</td>\n",
       "      <td>غرب</td>\n",
       "      <td>تجاري</td>\n",
       "      <td>100.0</td>\n",
       "      <td>1450</td>\n",
       "      <td>3500</td>\n",
       "    </tr>\n",
       "    <tr>\n",
       "      <th>3</th>\n",
       "      <td>الخبر</td>\n",
       "      <td>NaN</td>\n",
       "      <td>حي الحزام الاخضر</td>\n",
       "      <td>شرق</td>\n",
       "      <td>NaN</td>\n",
       "      <td>15.0</td>\n",
       "      <td>440</td>\n",
       "      <td>2700</td>\n",
       "    </tr>\n",
       "    <tr>\n",
       "      <th>4</th>\n",
       "      <td>بريدة</td>\n",
       "      <td>NaN</td>\n",
       "      <td>حي الرحاب</td>\n",
       "      <td>جنوب غربي</td>\n",
       "      <td>NaN</td>\n",
       "      <td>40.0</td>\n",
       "      <td>784</td>\n",
       "      <td>950</td>\n",
       "    </tr>\n",
       "  </tbody>\n",
       "</table>\n",
       "</div>"
      ],
      "text/plain": [
       "  mainlocation sublocation      neighborhood   frontage purpose  streetwidth  \\\n",
       "0       الرياض  غرب الرياض       حي ظهرة لبن       شمال    سكني         20.0   \n",
       "1        بريدة         NaN           حي مشعل        غرب     NaN         15.0   \n",
       "2        الخبر         NaN         حي الحمرا        غرب   تجاري        100.0   \n",
       "3        الخبر         NaN  حي الحزام الاخضر        شرق     NaN         15.0   \n",
       "4        بريدة         NaN         حي الرحاب  جنوب غربي     NaN         40.0   \n",
       "\n",
       "   size  Pricepm  \n",
       "0   727     1800  \n",
       "1   450      950  \n",
       "2  1450     3500  \n",
       "3   440     2700  \n",
       "4   784      950  "
      ]
     },
     "execution_count": 3,
     "metadata": {},
     "output_type": "execute_result"
    }
   ],
   "source": [
    "print(data.shape)\n",
    "data.head()"
   ]
  },
  {
   "cell_type": "markdown",
   "id": "614d88dd",
   "metadata": {},
   "source": [
    "# Data analysis"
   ]
  },
  {
   "cell_type": "markdown",
   "id": "2f04a441",
   "metadata": {},
   "source": [
    "## 1- Missing values"
   ]
  },
  {
   "cell_type": "code",
   "execution_count": 5,
   "id": "194076c2",
   "metadata": {},
   "outputs": [
    {
     "data": {
      "text/plain": [
       "mainlocation      0\n",
       "sublocation     675\n",
       "neighborhood      0\n",
       "frontage          0\n",
       "purpose         347\n",
       "streetwidth       3\n",
       "size              0\n",
       "Pricepm           0\n",
       "dtype: int64"
      ]
     },
     "execution_count": 5,
     "metadata": {},
     "output_type": "execute_result"
    }
   ],
   "source": [
    "data.isna().sum()"
   ]
  },
  {
   "cell_type": "code",
   "execution_count": 6,
   "id": "b2e8ae2e",
   "metadata": {},
   "outputs": [
    {
     "name": "stdout",
     "output_type": "stream",
     "text": [
      "The percentage of nall values in:\n",
      "'sublocation'= 0.22873602168756355\n",
      "'sublocation'= 0.11758725855642155\n",
      "'sublocation'= 0.0010166045408336157\n"
     ]
    }
   ],
   "source": [
    "print(f\"The percentage of nall values in:\")\n",
    "print(f\"'sublocation'= {data.sublocation.isna().sum() / data.shape[0]}\")\n",
    "print(f\"'sublocation'= {data.purpose.isna().sum() / data.shape[0]}\")\n",
    "print(f\"'sublocation'= {data.streetwidth.isna().sum() / data.shape[0]}\")"
   ]
  },
  {
   "cell_type": "code",
   "execution_count": 7,
   "id": "aab4eb42",
   "metadata": {},
   "outputs": [
    {
     "data": {
      "text/plain": [
       "mainlocation    0\n",
       "sublocation     0\n",
       "neighborhood    0\n",
       "frontage        0\n",
       "purpose         0\n",
       "streetwidth     0\n",
       "size            0\n",
       "Pricepm         0\n",
       "dtype: int64"
      ]
     },
     "execution_count": 7,
     "metadata": {},
     "output_type": "execute_result"
    }
   ],
   "source": [
    "# data.dropna(subset=[\"streetwidth\",\"purpose\"],inplace=True)\n",
    "data.dropna(inplace=True)\n",
    "\n",
    "data.isna().sum()"
   ]
  },
  {
   "cell_type": "code",
   "execution_count": 8,
   "id": "78d08404",
   "metadata": {},
   "outputs": [],
   "source": [
    "# print(f\"The percentage of nall values after removing smoe values:\")\n",
    "# print(f\"'sublocation'= {data.sublocation.isna().sum() / data.shape[0]}\")"
   ]
  },
  {
   "cell_type": "markdown",
   "id": "e71a53bf",
   "metadata": {},
   "source": [
    "## 2- Duplicate Data"
   ]
  },
  {
   "cell_type": "code",
   "execution_count": 9,
   "id": "3637d332",
   "metadata": {},
   "outputs": [
    {
     "data": {
      "text/plain": [
       "0"
      ]
     },
     "execution_count": 9,
     "metadata": {},
     "output_type": "execute_result"
    }
   ],
   "source": [
    "data.duplicated().sum()"
   ]
  },
  {
   "cell_type": "markdown",
   "id": "c26cccc7",
   "metadata": {},
   "source": [
    "## 3- Data preprocessing"
   ]
  },
  {
   "cell_type": "markdown",
   "id": "f1c0d8b7",
   "metadata": {},
   "source": [
    "### 3.1 - one hot encoding"
   ]
  },
  {
   "cell_type": "code",
   "execution_count": null,
   "id": "3806bd21",
   "metadata": {},
   "outputs": [],
   "source": []
  }
 ],
 "metadata": {
  "kernelspec": {
   "display_name": "Python 3 (ipykernel)",
   "language": "python",
   "name": "python3"
  },
  "language_info": {
   "codemirror_mode": {
    "name": "ipython",
    "version": 3
   },
   "file_extension": ".py",
   "mimetype": "text/x-python",
   "name": "python",
   "nbconvert_exporter": "python",
   "pygments_lexer": "ipython3",
   "version": "3.9.12"
  }
 },
 "nbformat": 4,
 "nbformat_minor": 5
}
